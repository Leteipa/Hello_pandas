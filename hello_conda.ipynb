{
 "cells": [
  {
   "cell_type": "code",
   "execution_count": 6,
   "metadata": {},
   "outputs": [],
   "source": [
    "import pandas as pd\n",
    "import seaborn as sns \n",
    "import numpy as np\n"
   ]
  },
  {
   "cell_type": "code",
   "execution_count": 7,
   "metadata": {},
   "outputs": [
    {
     "ename": "ImportError",
     "evalue": "cannot import name 'pie' from 'numpy' (E:\\softwares\\anaconda\\lib\\site-packages\\numpy\\__init__.py)",
     "output_type": "error",
     "traceback": [
      "\u001b[1;31m---------------------------------------------------------------------------\u001b[0m",
      "\u001b[1;31mImportError\u001b[0m                               Traceback (most recent call last)",
      "\u001b[1;32m<ipython-input-7-00e3435401ca>\u001b[0m in \u001b[0;36m<module>\u001b[1;34m\u001b[0m\n\u001b[1;32m----> 1\u001b[1;33m \u001b[1;32mfrom\u001b[0m \u001b[0mnumpy\u001b[0m \u001b[1;32mimport\u001b[0m \u001b[0mpie\u001b[0m\u001b[1;33m\u001b[0m\u001b[1;33m\u001b[0m\u001b[0m\n\u001b[0m",
      "\u001b[1;31mImportError\u001b[0m: cannot import name 'pie' from 'numpy' (E:\\softwares\\anaconda\\lib\\site-packages\\numpy\\__init__.py)"
     ]
    }
   ],
   "source": [
    "from numpy import pie \n"
   ]
  },
  {
   "cell_type": "code",
   "execution_count": 4,
   "metadata": {
    "scrolled": true
   },
   "outputs": [
    {
     "data": {
      "text/html": [
       "<div>\n",
       "<style scoped>\n",
       "    .dataframe tbody tr th:only-of-type {\n",
       "        vertical-align: middle;\n",
       "    }\n",
       "\n",
       "    .dataframe tbody tr th {\n",
       "        vertical-align: top;\n",
       "    }\n",
       "\n",
       "    .dataframe thead th {\n",
       "        text-align: right;\n",
       "    }\n",
       "</style>\n",
       "<table border=\"1\" class=\"dataframe\">\n",
       "  <thead>\n",
       "    <tr style=\"text-align: right;\">\n",
       "      <th></th>\n",
       "      <th>Respondents</th>\n",
       "      <th>Gender</th>\n",
       "      <th>Age_Group</th>\n",
       "      <th>Education</th>\n",
       "      <th>Number_Years_Worked</th>\n",
       "      <th>Budget_Allocation_1</th>\n",
       "      <th>Budget_Allocation_2</th>\n",
       "      <th>Budget_Allocation_3</th>\n",
       "      <th>Budget_Allocation_4</th>\n",
       "      <th>Employees_Training_1</th>\n",
       "      <th>...</th>\n",
       "      <th>Organization_Culture_2</th>\n",
       "      <th>Organization_Culture_3</th>\n",
       "      <th>Organization_Culture_4</th>\n",
       "      <th>Organization_Structure_1</th>\n",
       "      <th>Organization_Structure_2</th>\n",
       "      <th>Organization_Structure_3</th>\n",
       "      <th>Organization_Structure_4</th>\n",
       "      <th>Implementation_Procurement_Regulations_1</th>\n",
       "      <th>Implementation_Procurement_Regulations_2</th>\n",
       "      <th>Implementation_Procurement_Regulations_3</th>\n",
       "    </tr>\n",
       "  </thead>\n",
       "  <tbody>\n",
       "    <tr>\n",
       "      <th>0</th>\n",
       "      <td>R1</td>\n",
       "      <td>1</td>\n",
       "      <td>4</td>\n",
       "      <td>4</td>\n",
       "      <td>2</td>\n",
       "      <td>1</td>\n",
       "      <td>5</td>\n",
       "      <td>2</td>\n",
       "      <td>2</td>\n",
       "      <td>1</td>\n",
       "      <td>...</td>\n",
       "      <td>4</td>\n",
       "      <td>4</td>\n",
       "      <td>5</td>\n",
       "      <td>1</td>\n",
       "      <td>3</td>\n",
       "      <td>5</td>\n",
       "      <td>1</td>\n",
       "      <td>2</td>\n",
       "      <td>4</td>\n",
       "      <td>1</td>\n",
       "    </tr>\n",
       "    <tr>\n",
       "      <th>1</th>\n",
       "      <td>R2</td>\n",
       "      <td>1</td>\n",
       "      <td>1</td>\n",
       "      <td>3</td>\n",
       "      <td>4</td>\n",
       "      <td>1</td>\n",
       "      <td>1</td>\n",
       "      <td>2</td>\n",
       "      <td>1</td>\n",
       "      <td>1</td>\n",
       "      <td>...</td>\n",
       "      <td>1</td>\n",
       "      <td>4</td>\n",
       "      <td>3</td>\n",
       "      <td>1</td>\n",
       "      <td>4</td>\n",
       "      <td>5</td>\n",
       "      <td>1</td>\n",
       "      <td>3</td>\n",
       "      <td>5</td>\n",
       "      <td>5</td>\n",
       "    </tr>\n",
       "    <tr>\n",
       "      <th>2</th>\n",
       "      <td>R3</td>\n",
       "      <td>0</td>\n",
       "      <td>1</td>\n",
       "      <td>2</td>\n",
       "      <td>5</td>\n",
       "      <td>0</td>\n",
       "      <td>4</td>\n",
       "      <td>4</td>\n",
       "      <td>3</td>\n",
       "      <td>0</td>\n",
       "      <td>...</td>\n",
       "      <td>4</td>\n",
       "      <td>5</td>\n",
       "      <td>5</td>\n",
       "      <td>0</td>\n",
       "      <td>2</td>\n",
       "      <td>3</td>\n",
       "      <td>5</td>\n",
       "      <td>1</td>\n",
       "      <td>2</td>\n",
       "      <td>4</td>\n",
       "    </tr>\n",
       "    <tr>\n",
       "      <th>3</th>\n",
       "      <td>R4</td>\n",
       "      <td>0</td>\n",
       "      <td>3</td>\n",
       "      <td>4</td>\n",
       "      <td>1</td>\n",
       "      <td>1</td>\n",
       "      <td>1</td>\n",
       "      <td>3</td>\n",
       "      <td>4</td>\n",
       "      <td>1</td>\n",
       "      <td>...</td>\n",
       "      <td>2</td>\n",
       "      <td>4</td>\n",
       "      <td>4</td>\n",
       "      <td>1</td>\n",
       "      <td>4</td>\n",
       "      <td>3</td>\n",
       "      <td>4</td>\n",
       "      <td>5</td>\n",
       "      <td>3</td>\n",
       "      <td>4</td>\n",
       "    </tr>\n",
       "    <tr>\n",
       "      <th>4</th>\n",
       "      <td>R5</td>\n",
       "      <td>1</td>\n",
       "      <td>2</td>\n",
       "      <td>4</td>\n",
       "      <td>5</td>\n",
       "      <td>0</td>\n",
       "      <td>5</td>\n",
       "      <td>3</td>\n",
       "      <td>1</td>\n",
       "      <td>1</td>\n",
       "      <td>...</td>\n",
       "      <td>5</td>\n",
       "      <td>1</td>\n",
       "      <td>1</td>\n",
       "      <td>1</td>\n",
       "      <td>5</td>\n",
       "      <td>4</td>\n",
       "      <td>3</td>\n",
       "      <td>3</td>\n",
       "      <td>5</td>\n",
       "      <td>4</td>\n",
       "    </tr>\n",
       "  </tbody>\n",
       "</table>\n",
       "<p>5 rows × 24 columns</p>\n",
       "</div>"
      ],
      "text/plain": [
       "  Respondents  Gender  Age_Group  Education  Number_Years_Worked  \\\n",
       "0          R1       1          4          4                    2   \n",
       "1          R2       1          1          3                    4   \n",
       "2          R3       0          1          2                    5   \n",
       "3          R4       0          3          4                    1   \n",
       "4          R5       1          2          4                    5   \n",
       "\n",
       "   Budget_Allocation_1  Budget_Allocation_2  Budget_Allocation_3  \\\n",
       "0                    1                    5                    2   \n",
       "1                    1                    1                    2   \n",
       "2                    0                    4                    4   \n",
       "3                    1                    1                    3   \n",
       "4                    0                    5                    3   \n",
       "\n",
       "   Budget_Allocation_4  Employees_Training_1  ...  Organization_Culture_2  \\\n",
       "0                    2                     1  ...                       4   \n",
       "1                    1                     1  ...                       1   \n",
       "2                    3                     0  ...                       4   \n",
       "3                    4                     1  ...                       2   \n",
       "4                    1                     1  ...                       5   \n",
       "\n",
       "   Organization_Culture_3  Organization_Culture_4  Organization_Structure_1   \\\n",
       "0                       4                       5                          1   \n",
       "1                       4                       3                          1   \n",
       "2                       5                       5                          0   \n",
       "3                       4                       4                          1   \n",
       "4                       1                       1                          1   \n",
       "\n",
       "   Organization_Structure_2  Organization_Structure_3  \\\n",
       "0                         3                         5   \n",
       "1                         4                         5   \n",
       "2                         2                         3   \n",
       "3                         4                         3   \n",
       "4                         5                         4   \n",
       "\n",
       "   Organization_Structure_4  Implementation_Procurement_Regulations_1  \\\n",
       "0                         1                                         2   \n",
       "1                         1                                         3   \n",
       "2                         5                                         1   \n",
       "3                         4                                         5   \n",
       "4                         3                                         3   \n",
       "\n",
       "   Implementation_Procurement_Regulations_2  \\\n",
       "0                                         4   \n",
       "1                                         5   \n",
       "2                                         2   \n",
       "3                                         3   \n",
       "4                                         5   \n",
       "\n",
       "   Implementation_Procurement_Regulations_3  \n",
       "0                                         1  \n",
       "1                                         5  \n",
       "2                                         4  \n",
       "3                                         4  \n",
       "4                                         4  \n",
       "\n",
       "[5 rows x 24 columns]"
      ]
     },
     "execution_count": 4,
     "metadata": {},
     "output_type": "execute_result"
    }
   ],
   "source": [
    "df = pd.read_excel('./python practice.xlsx')\n",
    "df.head()"
   ]
  },
  {
   "cell_type": "code",
   "execution_count": 10,
   "metadata": {},
   "outputs": [
    {
     "data": {
      "text/plain": [
       "Gender                                      0.558140\n",
       "Age_Group                                   3.581395\n",
       "Education                                   3.255814\n",
       "Number_Years_Worked                         4.104651\n",
       "Budget_Allocation_1                         0.697674\n",
       "Budget_Allocation_2                         3.895349\n",
       "Budget_Allocation_3                         3.930233\n",
       "Budget_Allocation_4                         3.837209\n",
       "Employees_Training_1                        0.709302\n",
       "Employees_Training_2                        4.046512\n",
       "Employees_Training_3                        3.895349\n",
       "Employees_Training_4                        4.011628\n",
       "Organization_Culture_1                      0.709302\n",
       "Organization_Culture_2                      3.930233\n",
       "Organization_Culture_3                      3.976744\n",
       "Organization_Culture_4                      3.906977\n",
       "Organization_Structure_1                    0.674419\n",
       "Organization_Structure_2                    3.825581\n",
       "Organization_Structure_3                    3.930233\n",
       "Organization_Structure_4                    4.000000\n",
       "Implementation_Procurement_Regulations_1    3.906977\n",
       "Implementation_Procurement_Regulations_2    4.046512\n",
       "Implementation_Procurement_Regulations_3    3.953488\n",
       "dtype: float64"
      ]
     },
     "execution_count": 10,
     "metadata": {},
     "output_type": "execute_result"
    }
   ],
   "source": [
    "\n",
    "df.mean()\n"
   ]
  },
  {
   "cell_type": "code",
   "execution_count": 13,
   "metadata": {},
   "outputs": [
    {
     "data": {
      "text/plain": [
       "Budget_Allocation_1    0.697674\n",
       "Budget_Allocation_2    3.895349\n",
       "Budget_Allocation_3    3.930233\n",
       "Budget_Allocation_4    3.837209\n",
       "dtype: float64"
      ]
     },
     "execution_count": 13,
     "metadata": {},
     "output_type": "execute_result"
    }
   ],
   "source": [
    "budget_all = df.iloc[:,5:9]\n",
    "budget_all.mean()"
   ]
  },
  {
   "cell_type": "code",
   "execution_count": 14,
   "metadata": {},
   "outputs": [
    {
     "data": {
      "text/plain": [
       "12.36046511627907"
      ]
     },
     "execution_count": 14,
     "metadata": {},
     "output_type": "execute_result"
    }
   ],
   "source": [
    "total_budget = df['Budget_Allocation_1'] + df['Budget_Allocation_2']  + df['Budget_Allocation_3'] + df['Budget_Allocation_4']\n",
    "total_budget.mean()"
   ]
  },
  {
   "cell_type": "code",
   "execution_count": null,
   "metadata": {},
   "outputs": [],
   "source": []
  }
 ],
 "metadata": {
  "kernelspec": {
   "display_name": "Python 3",
   "language": "python",
   "name": "python3"
  },
  "language_info": {
   "codemirror_mode": {
    "name": "ipython",
    "version": 3
   },
   "file_extension": ".py",
   "mimetype": "text/x-python",
   "name": "python",
   "nbconvert_exporter": "python",
   "pygments_lexer": "ipython3",
   "version": "3.7.6"
  }
 },
 "nbformat": 4,
 "nbformat_minor": 4
}
